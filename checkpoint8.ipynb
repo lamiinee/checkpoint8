{
 "cells": [
  {
   "cell_type": "code",
   "execution_count": 11,
   "id": "0dc75795",
   "metadata": {},
   "outputs": [],
   "source": [
    "import requests\n",
    "from bs4 import BeautifulSoup\n",
    "lien = 'https://fr.wikipedia.org/wiki/Liste_des_pays_par_PIB_nominal'\n",
    "\n",
    "#fonction pour analyser et obtenir le contenu html d'une page\n",
    "def gmc1(lien):\n",
    "    A = requests.get(lien)\n",
    "    B = A.content\n",
    "    return B\n",
    "    \n",
    "def gmc2(B):\n",
    "    soup = BeautifulSoup(B, 'html.parser')\n",
    "    return soup "
   ]
  },
  {
   "cell_type": "code",
   "execution_count": null,
   "id": "d47985fa",
   "metadata": {},
   "outputs": [],
   "source": [
    "#fonction pour extraire le titre \n",
    "def gmc3(soup):\n",
    "    return soup.find('h1').text"
   ]
  },
  {
   "cell_type": "code",
   "execution_count": 12,
   "id": "389133eb",
   "metadata": {},
   "outputs": [],
   "source": [
    "#fonction pour extraire le texte de l'article pour chaque paragraphe avec leurs titres respectifs \n",
    "def gmc4(soup):\n",
    "    C = {}\n",
    "    for i in soup.find_all(['h2','h3','h4','p']):\n",
    "        if i.name in ['h2','h3','h4']:\n",
    "            C[i.text]=[]\n",
    "        elif i.name == 'p':\n",
    "            if i.text:\n",
    "                C[i.text].append(i.text)\n",
    "    return C\n",
    "            "
   ]
  },
  {
   "cell_type": "code",
   "execution_count": 13,
   "id": "2849edc6",
   "metadata": {},
   "outputs": [],
   "source": [
    "#collecter tous les liens qui redirige vers une autre page\n",
    "def gmc5(soup):\n",
    "    lien = []\n",
    "    for lien in soup.find_all('a'):\n",
    "        D = link.get('href')\n",
    "        if D and D.startswith('/wiki/'):\n",
    "            lien.append(D)\n",
    "    return lien"
   ]
  },
  {
   "cell_type": "code",
   "execution_count": 18,
   "id": "2592eca6",
   "metadata": {},
   "outputs": [],
   "source": [
    "#fontion pour Regroupez toutes les fonctions précédentes en une seule fonction qui prend en paramètre un lien Wikipedia\n",
    "def gmc6(lien):\n",
    "    E = get_html(lien)\n",
    "    soup = parse_html(E)\n",
    "    titre = extract_title(soup)\n",
    "    texte = extract_text(soup)\n",
    "    liens = extract_links(soup)\n",
    "    return titre, texte, liens"
   ]
  },
  {
   "cell_type": "code",
   "execution_count": 19,
   "id": "8703b56c",
   "metadata": {},
   "outputs": [
    {
     "ename": "NameError",
     "evalue": "name 'get_html' is not defined",
     "output_type": "error",
     "traceback": [
      "\u001b[0;31m---------------------------------------------------------------------------\u001b[0m",
      "\u001b[0;31mNameError\u001b[0m                                 Traceback (most recent call last)",
      "\u001b[0;32m/var/folders/lr/nbypy8dj41x5ygdk9q2gl90h0000gn/T/ipykernel_72214/1639574459.py\u001b[0m in \u001b[0;36m<module>\u001b[0;34m\u001b[0m\n\u001b[1;32m      1\u001b[0m \u001b[0;31m#Testez la dernière fonction sur une page Wikipedia\u001b[0m\u001b[0;34m\u001b[0m\u001b[0;34m\u001b[0m\u001b[0m\n\u001b[1;32m      2\u001b[0m \u001b[0mlien\u001b[0m \u001b[0;34m=\u001b[0m \u001b[0;34m'https://fr.wikipedia.org/wiki/Sénégal'\u001b[0m\u001b[0;34m\u001b[0m\u001b[0;34m\u001b[0m\u001b[0m\n\u001b[0;32m----> 3\u001b[0;31m \u001b[0mtitre\u001b[0m\u001b[0;34m,\u001b[0m \u001b[0mtexte\u001b[0m\u001b[0;34m,\u001b[0m \u001b[0mliens\u001b[0m \u001b[0;34m=\u001b[0m \u001b[0mgmc6\u001b[0m\u001b[0;34m(\u001b[0m\u001b[0mlien\u001b[0m\u001b[0;34m)\u001b[0m\u001b[0;34m\u001b[0m\u001b[0;34m\u001b[0m\u001b[0m\n\u001b[0m\u001b[1;32m      4\u001b[0m \u001b[0mprint\u001b[0m\u001b[0;34m(\u001b[0m\u001b[0;34m'tire:'\u001b[0m\u001b[0;34m,\u001b[0m \u001b[0mtitre\u001b[0m\u001b[0;34m)\u001b[0m\u001b[0;34m\u001b[0m\u001b[0;34m\u001b[0m\u001b[0m\n\u001b[1;32m      5\u001b[0m \u001b[0mprint\u001b[0m\u001b[0;34m(\u001b[0m\u001b[0;34m'texte:'\u001b[0m\u001b[0;34m,\u001b[0m \u001b[0mtexte\u001b[0m\u001b[0;34m)\u001b[0m\u001b[0;34m\u001b[0m\u001b[0;34m\u001b[0m\u001b[0m\n",
      "\u001b[0;32m/var/folders/lr/nbypy8dj41x5ygdk9q2gl90h0000gn/T/ipykernel_72214/3362026728.py\u001b[0m in \u001b[0;36mgmc6\u001b[0;34m(lien)\u001b[0m\n\u001b[1;32m      1\u001b[0m \u001b[0;31m#fontion pour Regroupez toutes les fonctions précédentes en une seule fonction qui prend en paramètre un lien Wikipedia\u001b[0m\u001b[0;34m\u001b[0m\u001b[0;34m\u001b[0m\u001b[0m\n\u001b[1;32m      2\u001b[0m \u001b[0;32mdef\u001b[0m \u001b[0mgmc6\u001b[0m\u001b[0;34m(\u001b[0m\u001b[0mlien\u001b[0m\u001b[0;34m)\u001b[0m\u001b[0;34m:\u001b[0m\u001b[0;34m\u001b[0m\u001b[0;34m\u001b[0m\u001b[0m\n\u001b[0;32m----> 3\u001b[0;31m     \u001b[0mE\u001b[0m \u001b[0;34m=\u001b[0m \u001b[0mget_html\u001b[0m\u001b[0;34m(\u001b[0m\u001b[0mlien\u001b[0m\u001b[0;34m)\u001b[0m\u001b[0;34m\u001b[0m\u001b[0;34m\u001b[0m\u001b[0m\n\u001b[0m\u001b[1;32m      4\u001b[0m     \u001b[0msoup\u001b[0m \u001b[0;34m=\u001b[0m \u001b[0mparse_html\u001b[0m\u001b[0;34m(\u001b[0m\u001b[0mE\u001b[0m\u001b[0;34m)\u001b[0m\u001b[0;34m\u001b[0m\u001b[0;34m\u001b[0m\u001b[0m\n\u001b[1;32m      5\u001b[0m     \u001b[0mtitre\u001b[0m \u001b[0;34m=\u001b[0m \u001b[0mextract_title\u001b[0m\u001b[0;34m(\u001b[0m\u001b[0msoup\u001b[0m\u001b[0;34m)\u001b[0m\u001b[0;34m\u001b[0m\u001b[0;34m\u001b[0m\u001b[0m\n",
      "\u001b[0;31mNameError\u001b[0m: name 'get_html' is not defined"
     ]
    }
   ],
   "source": [
    "#Testez la dernière fonction sur une page Wikipedia \n",
    "lien = 'https://fr.wikipedia.org/wiki/Sénégal'\n",
    "titre, texte, liens = gmc6(lien)\n",
    "print('tire:', titre)\n",
    "print('texte:', texte)\n",
    "print('liens:', liens)"
   ]
  },
  {
   "cell_type": "code",
   "execution_count": null,
   "id": "8349600d",
   "metadata": {},
   "outputs": [],
   "source": []
  }
 ],
 "metadata": {
  "kernelspec": {
   "display_name": "Python 3 (ipykernel)",
   "language": "python",
   "name": "python3"
  },
  "language_info": {
   "codemirror_mode": {
    "name": "ipython",
    "version": 3
   },
   "file_extension": ".py",
   "mimetype": "text/x-python",
   "name": "python",
   "nbconvert_exporter": "python",
   "pygments_lexer": "ipython3",
   "version": "3.9.13"
  }
 },
 "nbformat": 4,
 "nbformat_minor": 5
}
